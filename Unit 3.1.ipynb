{
 "cells": [
  {
   "cell_type": "markdown",
   "id": "0f063fa1-88c9-4450-92c5-c572829a8a9b",
   "metadata": {},
   "source": [
    "# Health Data Set for the Southern Region of the United States\n",
    "\n",
    "The purpose of the Southern Health Data Set is to examine several relevant health care variables across the Southern region of the United States. Specifically, it compiles the average number of poor mental health days, the percentage of people with poor or fair health, and health care costs across different counties. It also shows which states the counties are in to aid in comparing outcomes across the region. \n",
    "\n",
    "### Overview of Tutorial\n",
    "\n",
    "This notebook will show you the steps to reproduce `SO_HealthDataSet.csv`. Its data comes from the `CountyHealthData_2014-2015.csv`, which provides county-based healthcare statistics across the United States.\n",
    "\n",
    "There are several major steps to recreate the \"Southern Health Data Set.\" Over the tutorial, you will;\n",
    "1. Create a data frame from `CountyHealthData_2014-2015.csv`\n",
    "2. Isolate the data from the south\n",
    "3. Extract only the required variables\n",
    "4. Convert that data into a new csv.\n",
    "\n",
    "### System Requirements \n",
    "\n",
    "Besides having access to Jupyter labs, to reproduce this data set you will also need to have [Pandas](https://pandas.pydata.org/docs/getting_started/install.html) and [NumPy](https://numpy.org/install/) installed.\n",
    "\n",
    "You also need to download the [CountyHealthData_2014-2015.csv](https://uncch.instructure.com/courses/4844/assignments/96397?module_item_id=188006).\n",
    "\n",
    "### 1. Import NumPy and Pandas\n",
    "\n",
    "First, to reproduce the the South Health Dataset you must import both NumPy and Pandas."
   ]
  },
  {
   "cell_type": "code",
   "execution_count": 1,
   "id": "18b9bfc6-25e4-4d0b-a06a-6e8a64d06fc1",
   "metadata": {},
   "outputs": [],
   "source": [
    "import numpy as np\n",
    "import pandas as pd"
   ]
  },
  {
   "cell_type": "markdown",
   "id": "37ca8ea1-08f2-4f53-9e60-797d3477e55b",
   "metadata": {},
   "source": [
    "Now, you should be able to use the necessary features from NumPy and Pandas. Using `as` makes it so you do not have to write the full title of each program when coding in their commands.\n",
    "\n",
    "NumPy, will support Pandas solve equations.\n",
    "\n",
    "### 2. Create the Data Frame\n",
    "\n",
    "The \"Southern Health Dataset\" comes from the \"CountyHealthData_2014-2015.csv.\" To create the data frame, use the command `pd.read_csv()`. It reads Comma Separated Values (csv). In the parentheses enter CountyHealthData_2014-2015.csv."
   ]
  },
  {
   "cell_type": "code",
   "execution_count": 33,
   "id": "14f08d77-efa6-4627-926d-e88c6b5ba886",
   "metadata": {},
   "outputs": [],
   "source": [
    "df=pd.read_csv(\"CountyHealthData_2014-2015.csv\")"
   ]
  },
  {
   "cell_type": "markdown",
   "id": "1652c867-238c-4e48-9c3c-fbd8094b4f70",
   "metadata": {},
   "source": [
    "### 3. Create a Data Subset for the South\n",
    "\n",
    "Now that we have the data for all regions, we must isolate the data for the South. Essentially, in this step we are creating a subset by extracting a smaller data frame from the already existing larger data frame. \n",
    "\n",
    "First we must name the new subset using `SO_subset =`. \n",
    "\n",
    "Then, we must use the code `df[df[\"Region\"] == \"South\"]`. That will tell Jupyter Labs the new subset comes from the data frame we made in step two. However, it will only show entries the region directly after `==`.\n",
    "\n",
    "The final part of the code `.copy()` tells Jupyter Labs to create it."
   ]
  },
  {
   "cell_type": "code",
   "execution_count": 26,
   "id": "211d14c3-023b-4279-a793-1800e1de7925",
   "metadata": {},
   "outputs": [],
   "source": [
    "SO_subset = df[df[\"Region\"] == \"South\"].copy() "
   ]
  },
  {
   "cell_type": "markdown",
   "id": "a7f3d405-4d37-43b1-8ed5-a6b2b31a0508",
   "metadata": {},
   "source": [
    "### 4. Extract the Relevant Health Data\n",
    "\n",
    "This is an important step because it will \n",
    "1. Name the final data set\n",
    "2. Extract our chosen variables\n",
    "\n",
    "The purpose of the Southern Health Dataset is not to analyze all the available variables but some of them. We also want to compare it across different states. So, we must further isolate more data. \n",
    "\n",
    "Similar to the last step, we are creating another set of data. In the last step, we selected from which cases we will pull our data. Begin the code by naming it using `SO_HealthSubset=`. \n",
    "\n",
    "Then, we must state from where we will pull our variables, in this case \"SO_subset\". So, right after `=`, enter `SO_subset`.\n",
    "\n",
    "Since we have our cases now, we will extract the variables we want in our final product. `.loc` will allow us to locate the specific variables while keeping the columns header. After `.loc` use `[:,\"State\",\"County\", \"Poor or fair health\", \"Poor mental health days\", \"Health care costs\"]]`. That will tell Jupyter the variables we want."
   ]
  },
  {
   "cell_type": "code",
   "execution_count": 27,
   "id": "3561f639-f3e3-488a-80f9-2cdbf9c54cdf",
   "metadata": {},
   "outputs": [],
   "source": [
    "SO_HealthSubset=SO_subset.loc[:,[\"State\",\"County\", \"Poor or fair health\", \"Poor mental health days\", \"Health care costs\"]]"
   ]
  },
  {
   "cell_type": "code",
   "execution_count": 28,
   "id": "039464c2-13eb-4703-95cb-3254e8f89ed3",
   "metadata": {},
   "outputs": [
    {
     "data": {
      "text/html": [
       "<div>\n",
       "<style scoped>\n",
       "    .dataframe tbody tr th:only-of-type {\n",
       "        vertical-align: middle;\n",
       "    }\n",
       "\n",
       "    .dataframe tbody tr th {\n",
       "        vertical-align: top;\n",
       "    }\n",
       "\n",
       "    .dataframe thead th {\n",
       "        text-align: right;\n",
       "    }\n",
       "</style>\n",
       "<table border=\"1\" class=\"dataframe\">\n",
       "  <thead>\n",
       "    <tr style=\"text-align: right;\">\n",
       "      <th></th>\n",
       "      <th>State</th>\n",
       "      <th>County</th>\n",
       "      <th>Poor or fair health</th>\n",
       "      <th>Poor mental health days</th>\n",
       "      <th>Health care costs</th>\n",
       "    </tr>\n",
       "  </thead>\n",
       "  <tbody>\n",
       "    <tr>\n",
       "      <th>46</th>\n",
       "      <td>AL</td>\n",
       "      <td>Autauga County</td>\n",
       "      <td>0.228</td>\n",
       "      <td>3.6</td>\n",
       "      <td>10219.0</td>\n",
       "    </tr>\n",
       "    <tr>\n",
       "      <th>47</th>\n",
       "      <td>AL</td>\n",
       "      <td>Autauga County</td>\n",
       "      <td>0.228</td>\n",
       "      <td>3.6</td>\n",
       "      <td>9939.0</td>\n",
       "    </tr>\n",
       "    <tr>\n",
       "      <th>48</th>\n",
       "      <td>AL</td>\n",
       "      <td>Baldwin County</td>\n",
       "      <td>0.127</td>\n",
       "      <td>3.8</td>\n",
       "      <td>9624.0</td>\n",
       "    </tr>\n",
       "    <tr>\n",
       "      <th>49</th>\n",
       "      <td>AL</td>\n",
       "      <td>Baldwin County</td>\n",
       "      <td>0.127</td>\n",
       "      <td>3.8</td>\n",
       "      <td>9502.0</td>\n",
       "    </tr>\n",
       "    <tr>\n",
       "      <th>50</th>\n",
       "      <td>AL</td>\n",
       "      <td>Barbour County</td>\n",
       "      <td>0.234</td>\n",
       "      <td>4.3</td>\n",
       "      <td>10809.0</td>\n",
       "    </tr>\n",
       "    <tr>\n",
       "      <th>...</th>\n",
       "      <td>...</td>\n",
       "      <td>...</td>\n",
       "      <td>...</td>\n",
       "      <td>...</td>\n",
       "      <td>...</td>\n",
       "    </tr>\n",
       "    <tr>\n",
       "      <th>6058</th>\n",
       "      <td>WV</td>\n",
       "      <td>Wirt County</td>\n",
       "      <td>0.161</td>\n",
       "      <td>2.5</td>\n",
       "      <td>10459.0</td>\n",
       "    </tr>\n",
       "    <tr>\n",
       "      <th>6059</th>\n",
       "      <td>WV</td>\n",
       "      <td>Wood County</td>\n",
       "      <td>0.205</td>\n",
       "      <td>5.1</td>\n",
       "      <td>10707.0</td>\n",
       "    </tr>\n",
       "    <tr>\n",
       "      <th>6060</th>\n",
       "      <td>WV</td>\n",
       "      <td>Wood County</td>\n",
       "      <td>0.205</td>\n",
       "      <td>5.1</td>\n",
       "      <td>10355.0</td>\n",
       "    </tr>\n",
       "    <tr>\n",
       "      <th>6061</th>\n",
       "      <td>WV</td>\n",
       "      <td>Wyoming County</td>\n",
       "      <td>0.348</td>\n",
       "      <td>7.7</td>\n",
       "      <td>10662.0</td>\n",
       "    </tr>\n",
       "    <tr>\n",
       "      <th>6062</th>\n",
       "      <td>WV</td>\n",
       "      <td>Wyoming County</td>\n",
       "      <td>0.348</td>\n",
       "      <td>7.7</td>\n",
       "      <td>10593.0</td>\n",
       "    </tr>\n",
       "  </tbody>\n",
       "</table>\n",
       "<p>2803 rows × 5 columns</p>\n",
       "</div>"
      ],
      "text/plain": [
       "     State          County  Poor or fair health  Poor mental health days  \\\n",
       "46      AL  Autauga County                0.228                      3.6   \n",
       "47      AL  Autauga County                0.228                      3.6   \n",
       "48      AL  Baldwin County                0.127                      3.8   \n",
       "49      AL  Baldwin County                0.127                      3.8   \n",
       "50      AL  Barbour County                0.234                      4.3   \n",
       "...    ...             ...                  ...                      ...   \n",
       "6058    WV     Wirt County                0.161                      2.5   \n",
       "6059    WV     Wood County                0.205                      5.1   \n",
       "6060    WV     Wood County                0.205                      5.1   \n",
       "6061    WV  Wyoming County                0.348                      7.7   \n",
       "6062    WV  Wyoming County                0.348                      7.7   \n",
       "\n",
       "      Health care costs  \n",
       "46              10219.0  \n",
       "47               9939.0  \n",
       "48               9624.0  \n",
       "49               9502.0  \n",
       "50              10809.0  \n",
       "...                 ...  \n",
       "6058            10459.0  \n",
       "6059            10707.0  \n",
       "6060            10355.0  \n",
       "6061            10662.0  \n",
       "6062            10593.0  \n",
       "\n",
       "[2803 rows x 5 columns]"
      ]
     },
     "execution_count": 28,
     "metadata": {},
     "output_type": "execute_result"
    }
   ],
   "source": [
    "SO_HealthSubset"
   ]
  },
  {
   "cell_type": "markdown",
   "id": "59410bed-277d-486f-90ce-7df5bea08e0a",
   "metadata": {},
   "source": [
    "\n",
    "\n",
    "### 5. Create a new csv. with the Datasubset made in the last step\n",
    "\n",
    "For this step, we convert the \"SO_HealthSubset\" to a csv using the command `.to_csv(\"\", index=False)`. Before the period enter \"SO_HealthSubset\", to tell jupyter what to convert. In the parentheses after the command, we put the name for the new file \"SO_HealthDataset\".\n",
    "\n",
    "We must also use `index=False` because by default, pandas adds a row of indices, when the file is transferred. The command will eliminate that."
   ]
  },
  {
   "cell_type": "code",
   "execution_count": 7,
   "id": "61767ea6-7eef-4752-9609-e281814b6f7b",
   "metadata": {},
   "outputs": [],
   "source": [
    "SO_HealthSubset.to_csv(\"SO_HealthDataSet\", index=False)"
   ]
  },
  {
   "cell_type": "code",
   "execution_count": null,
   "id": "e4d2b6e7-8523-4361-9577-76f91dcf9351",
   "metadata": {},
   "outputs": [],
   "source": []
  }
 ],
 "metadata": {
  "kernelspec": {
   "display_name": "Python 3 (ipykernel)",
   "language": "python",
   "name": "python3"
  },
  "language_info": {
   "codemirror_mode": {
    "name": "ipython",
    "version": 3
   },
   "file_extension": ".py",
   "mimetype": "text/x-python",
   "name": "python",
   "nbconvert_exporter": "python",
   "pygments_lexer": "ipython3",
   "version": "3.9.13"
  }
 },
 "nbformat": 4,
 "nbformat_minor": 5
}
